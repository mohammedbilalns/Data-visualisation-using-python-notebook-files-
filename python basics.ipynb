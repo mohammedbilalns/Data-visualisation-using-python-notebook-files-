{
 "cells": [
  {
   "cell_type": "markdown",
   "id": "d2ee6e9b-fed7-4236-9234-cd1c9489d8e0",
   "metadata": {},
   "source": [
    "# Python Basics"
   ]
  },
  {
   "cell_type": "markdown",
   "id": "d8cb1809-e541-48ea-b54c-dd8288df8bf4",
   "metadata": {},
   "source": [
    "## Data Types "
   ]
  },
  {
   "cell_type": "code",
   "execution_count": 1,
   "id": "5ba19807-1fc4-4780-8c55-fec1f5ba876a",
   "metadata": {},
   "outputs": [
    {
     "data": {
      "text/plain": [
       "int"
      ]
     },
     "execution_count": 1,
     "metadata": {},
     "output_type": "execute_result"
    }
   ],
   "source": [
    "a = 2\n",
    "type(2)"
   ]
  },
  {
   "cell_type": "code",
   "execution_count": 2,
   "id": "06db7041-ad47-47aa-babf-2b7d50b84d86",
   "metadata": {},
   "outputs": [
    {
     "data": {
      "text/plain": [
       "float"
      ]
     },
     "execution_count": 2,
     "metadata": {},
     "output_type": "execute_result"
    }
   ],
   "source": [
    "a=2.5\n",
    "type(a)"
   ]
  },
  {
   "cell_type": "code",
   "execution_count": 4,
   "id": "633896db-b5b3-40ff-810c-a6d9e357ec8c",
   "metadata": {},
   "outputs": [
    {
     "data": {
      "text/plain": [
       "str"
      ]
     },
     "execution_count": 4,
     "metadata": {},
     "output_type": "execute_result"
    }
   ],
   "source": [
    "a=\"fsndkjn\"\n",
    "type(a)\n"
   ]
  },
  {
   "cell_type": "markdown",
   "id": "c114961d-0570-4e0b-8d1c-591947793027",
   "metadata": {},
   "source": [
    "### Absolute value of a number "
   ]
  },
  {
   "cell_type": "code",
   "execution_count": 7,
   "id": "a72b70e8-5d19-4c04-8bb7-47727946aaf3",
   "metadata": {},
   "outputs": [
    {
     "data": {
      "text/plain": [
       "5"
      ]
     },
     "execution_count": 7,
     "metadata": {},
     "output_type": "execute_result"
    }
   ],
   "source": [
    "abs(-5)"
   ]
  },
  {
   "cell_type": "markdown",
   "id": "2e16c5e5-cf68-40be-b566-f83d34352e75",
   "metadata": {},
   "source": [
    "### Converting one data type into another "
   ]
  },
  {
   "cell_type": "code",
   "execution_count": 10,
   "id": "1462242b-756a-4fca-9a64-52eeab81bbf1",
   "metadata": {},
   "outputs": [
    {
     "data": {
      "text/plain": [
       "int"
      ]
     },
     "execution_count": 10,
     "metadata": {},
     "output_type": "execute_result"
    }
   ],
   "source": [
    "b= 2.5\n",
    "type(int(b))"
   ]
  },
  {
   "cell_type": "code",
   "execution_count": 12,
   "id": "4d52cf2b-677a-4a3b-b07b-89497eaf6489",
   "metadata": {},
   "outputs": [
    {
     "data": {
      "text/plain": [
       "float"
      ]
     },
     "execution_count": 12,
     "metadata": {},
     "output_type": "execute_result"
    }
   ],
   "source": [
    "b=4\n",
    "type(float(b))"
   ]
  },
  {
   "cell_type": "code",
   "execution_count": 13,
   "id": "eac7656f-a162-496a-ac6e-9668415393c0",
   "metadata": {},
   "outputs": [
    {
     "data": {
      "text/plain": [
       "str"
      ]
     },
     "execution_count": 13,
     "metadata": {},
     "output_type": "execute_result"
    }
   ],
   "source": [
    "type(str(b))"
   ]
  },
  {
   "cell_type": "markdown",
   "id": "1e2fbdfb-feb8-4cc6-9eba-216943d903fd",
   "metadata": {},
   "source": [
    "## Mathematical Operations "
   ]
  },
  {
   "cell_type": "code",
   "execution_count": 14,
   "id": "5a9cf869-f6c7-47a6-90bd-5ba5463df8e5",
   "metadata": {},
   "outputs": [
    {
     "data": {
      "text/plain": [
       "1"
      ]
     },
     "execution_count": 14,
     "metadata": {},
     "output_type": "execute_result"
    }
   ],
   "source": [
    "3//2"
   ]
  },
  {
   "cell_type": "code",
   "execution_count": 15,
   "id": "22f8b7f8-7ef4-4817-b0f3-ced91e49fae5",
   "metadata": {},
   "outputs": [
    {
     "data": {
      "text/plain": [
       "1"
      ]
     },
     "execution_count": 15,
     "metadata": {},
     "output_type": "execute_result"
    }
   ],
   "source": [
    "3%2"
   ]
  },
  {
   "cell_type": "markdown",
   "id": "c77024fc-1639-4bce-90ca-b4040149ae96",
   "metadata": {},
   "source": [
    "$2^3$"
   ]
  },
  {
   "cell_type": "code",
   "execution_count": 17,
   "id": "7cb52f01-28dc-4e71-bc19-a56245bef00a",
   "metadata": {},
   "outputs": [
    {
     "data": {
      "text/plain": [
       "8"
      ]
     },
     "execution_count": 17,
     "metadata": {},
     "output_type": "execute_result"
    }
   ],
   "source": [
    "2**3 "
   ]
  },
  {
   "cell_type": "markdown",
   "id": "f440c832-ae17-4e94-a3f0-4687d5256a2d",
   "metadata": {},
   "source": [
    "## Deleting Assigned Variable "
   ]
  },
  {
   "cell_type": "code",
   "execution_count": 19,
   "id": "c1bca05e-88ca-4d19-b95a-ce79110c4e09",
   "metadata": {},
   "outputs": [
    {
     "data": {
      "text/plain": [
       "45"
      ]
     },
     "execution_count": 19,
     "metadata": {},
     "output_type": "execute_result"
    }
   ],
   "source": [
    "a = 45\n",
    "a"
   ]
  },
  {
   "cell_type": "code",
   "execution_count": 20,
   "id": "10df2b0e-6137-477f-8472-28cbc08d20bd",
   "metadata": {},
   "outputs": [
    {
     "ename": "NameError",
     "evalue": "name 'a' is not defined",
     "output_type": "error",
     "traceback": [
      "\u001b[0;31m---------------------------------------------------------------------------\u001b[0m",
      "\u001b[0;31mNameError\u001b[0m                                 Traceback (most recent call last)",
      "Cell \u001b[0;32mIn[20], line 2\u001b[0m\n\u001b[1;32m      1\u001b[0m \u001b[38;5;28;01mdel\u001b[39;00m a \n\u001b[0;32m----> 2\u001b[0m \u001b[43ma\u001b[49m\n",
      "\u001b[0;31mNameError\u001b[0m: name 'a' is not defined"
     ]
    }
   ],
   "source": [
    "del a \n",
    "a"
   ]
  },
  {
   "cell_type": "markdown",
   "id": "91313084-7baa-46e4-ad9d-a665ea4afff8",
   "metadata": {},
   "source": [
    "### Displaying print "
   ]
  },
  {
   "cell_type": "code",
   "execution_count": 22,
   "id": "5936bd95-2146-43d7-9955-a00b52e73f38",
   "metadata": {},
   "outputs": [
    {
     "name": "stdout",
     "output_type": "stream",
     "text": [
      "This is a sample text 2 containing a number\n"
     ]
    }
   ],
   "source": [
    "print(\"This is a sample text {} containing a number\".format(2))"
   ]
  },
  {
   "cell_type": "markdown",
   "id": "1f2a35e4-9b19-49a9-b58b-85f5ca5d5b19",
   "metadata": {},
   "source": [
    "## Lists "
   ]
  },
  {
   "cell_type": "code",
   "execution_count": 25,
   "id": "e95c5155-13a8-466d-989a-926cd7c6cfbf",
   "metadata": {},
   "outputs": [
    {
     "data": {
      "text/plain": [
       "[1, 2, 5, 4, 7, 8]"
      ]
     },
     "execution_count": 25,
     "metadata": {},
     "output_type": "execute_result"
    }
   ],
   "source": [
    "x = [1,2,5,4,7,8]\n",
    "x"
   ]
  },
  {
   "cell_type": "code",
   "execution_count": 26,
   "id": "b000cd8a-a44c-47f1-9860-c8d47fe1d7b4",
   "metadata": {},
   "outputs": [
    {
     "data": {
      "text/plain": [
       "list"
      ]
     },
     "execution_count": 26,
     "metadata": {},
     "output_type": "execute_result"
    }
   ],
   "source": [
    "type(x)"
   ]
  },
  {
   "cell_type": "code",
   "execution_count": 27,
   "id": "74ecf9ab-68a9-49e1-beeb-3450ee96a2e4",
   "metadata": {},
   "outputs": [
    {
     "data": {
      "text/plain": [
       "[4, 5, 5.4, 'fdsf']"
      ]
     },
     "execution_count": 27,
     "metadata": {},
     "output_type": "execute_result"
    }
   ],
   "source": [
    "x  = [4,5,5.4,\"fdsf\"]\n",
    "x"
   ]
  },
  {
   "cell_type": "markdown",
   "id": "b50bbdda-53cd-45c3-ba30-eb123bd0af98",
   "metadata": {},
   "source": [
    "Adding items in the list"
   ]
  },
  {
   "cell_type": "code",
   "execution_count": 28,
   "id": "26c6c944-5bee-425c-8932-e74201cd3280",
   "metadata": {},
   "outputs": [
    {
     "data": {
      "text/plain": [
       "[4, 5, 5.4, 'fdsf', 'sfjdh']"
      ]
     },
     "execution_count": 28,
     "metadata": {},
     "output_type": "execute_result"
    }
   ],
   "source": [
    "x.append(\"sfjdh\")\n",
    "x"
   ]
  },
  {
   "cell_type": "markdown",
   "id": "53f4a78f-bbb1-4527-ae80-c172aef4fbba",
   "metadata": {},
   "source": [
    "removing last item from list \n"
   ]
  },
  {
   "cell_type": "code",
   "execution_count": 29,
   "id": "b1a5ef7a-5bcd-4233-9845-28289e21f5ad",
   "metadata": {},
   "outputs": [
    {
     "data": {
      "text/plain": [
       "[4, 5, 5.4, 'fdsf']"
      ]
     },
     "execution_count": 29,
     "metadata": {},
     "output_type": "execute_result"
    }
   ],
   "source": [
    "x.pop()\n",
    "x"
   ]
  },
  {
   "cell_type": "markdown",
   "id": "df282ded-eb29-4a2a-a5d9-2508cd968ec9",
   "metadata": {},
   "source": [
    "insert item at specific index "
   ]
  },
  {
   "cell_type": "code",
   "execution_count": 31,
   "id": "c10775c7-81e4-4b62-888b-aa0715434882",
   "metadata": {},
   "outputs": [
    {
     "data": {
      "text/plain": [
       "[5, 4, 4, 5, 5.4, 'fdsf']"
      ]
     },
     "execution_count": 31,
     "metadata": {},
     "output_type": "execute_result"
    }
   ],
   "source": [
    "x.insert(0,5)\n",
    "x"
   ]
  },
  {
   "cell_type": "markdown",
   "id": "8836b4c7-8cdc-4ca8-9bbc-19abd954e9ad",
   "metadata": {},
   "source": [
    "Display upto purticular index in a list "
   ]
  },
  {
   "cell_type": "code",
   "execution_count": 33,
   "id": "8f301b65-1d80-45de-a653-f33ea8eae2d2",
   "metadata": {},
   "outputs": [
    {
     "data": {
      "text/plain": [
       "[5, 4]"
      ]
     },
     "execution_count": 33,
     "metadata": {},
     "output_type": "execute_result"
    }
   ],
   "source": [
    "x[:2]"
   ]
  },
  {
   "cell_type": "markdown",
   "id": "744a2878-d1bf-45d0-9ee6-0e552ebf0dcc",
   "metadata": {},
   "source": [
    "## Sets"
   ]
  },
  {
   "cell_type": "markdown",
   "id": "2b1064f7-9ee4-4bb6-ba0c-bded741046d5",
   "metadata": {},
   "source": [
    "unordered collection without repetition "
   ]
  },
  {
   "cell_type": "code",
   "execution_count": 35,
   "id": "76302df3-4b3e-4ab6-a942-c5cf02cec763",
   "metadata": {},
   "outputs": [
    {
     "data": {
      "text/plain": [
       "{1, 4, 5, 7, 8}"
      ]
     },
     "execution_count": 35,
     "metadata": {},
     "output_type": "execute_result"
    }
   ],
   "source": [
    "s= {1,1,5,4,5,7,8,7}\n",
    "s"
   ]
  },
  {
   "cell_type": "code",
   "execution_count": 36,
   "id": "c7d75b38-46e8-46b2-a456-10054199396e",
   "metadata": {},
   "outputs": [
    {
     "data": {
      "text/plain": [
       "{1, 45, 5555.5, 'fsd'}"
      ]
     },
     "execution_count": 36,
     "metadata": {},
     "output_type": "execute_result"
    }
   ],
   "source": [
    "s={1,\"fsd\",45,5555.5}\n",
    "s"
   ]
  },
  {
   "cell_type": "markdown",
   "id": "d5e7ed12-a5a1-4636-9770-37e27a3925f0",
   "metadata": {},
   "source": [
    "## Tuple "
   ]
  },
  {
   "cell_type": "markdown",
   "id": "da3c83e7-1d66-4bd2-8fa1-7e66e76efc0f",
   "metadata": {},
   "source": [
    "ordered collection with repetition allowed that cannot updated after defining "
   ]
  },
  {
   "cell_type": "code",
   "execution_count": 38,
   "id": "9497cf84-1b54-4516-a561-99bd8e56d690",
   "metadata": {},
   "outputs": [
    {
     "data": {
      "text/plain": [
       "(1, '45', 4.5, 4.5, 1)"
      ]
     },
     "execution_count": 38,
     "metadata": {},
     "output_type": "execute_result"
    }
   ],
   "source": [
    "t= (1,\"45\",4.5,4.5,1)\n",
    "t"
   ]
  },
  {
   "cell_type": "code",
   "execution_count": 39,
   "id": "4f87c42b-ce7c-4529-9ac3-e5d2634a67ff",
   "metadata": {},
   "outputs": [
    {
     "data": {
      "text/plain": [
       "1"
      ]
     },
     "execution_count": 39,
     "metadata": {},
     "output_type": "execute_result"
    }
   ],
   "source": [
    "t[0]"
   ]
  },
  {
   "cell_type": "markdown",
   "id": "88f66359-d01a-44ad-8579-7045c81b1dde",
   "metadata": {},
   "source": [
    "## Dictionary "
   ]
  },
  {
   "cell_type": "markdown",
   "id": "70d69bdc-ce5f-449b-8330-516f36fb01f4",
   "metadata": {},
   "source": [
    "key value pairs m"
   ]
  },
  {
   "cell_type": "code",
   "execution_count": 43,
   "id": "d8c204b4-3f45-4d17-b142-fccfe46e08b2",
   "metadata": {},
   "outputs": [
    {
     "data": {
      "text/plain": [
       "{'k': 45, 5: 45, 4.5: 45}"
      ]
     },
     "execution_count": 43,
     "metadata": {},
     "output_type": "execute_result"
    }
   ],
   "source": [
    "d = {\"k\":45,5:45,4.5:45}\n",
    "d"
   ]
  },
  {
   "cell_type": "code",
   "execution_count": 45,
   "id": "5657c42c-55f1-4bfd-9327-3843aa9ba864",
   "metadata": {},
   "outputs": [
    {
     "data": {
      "text/plain": [
       "45"
      ]
     },
     "execution_count": 45,
     "metadata": {},
     "output_type": "execute_result"
    }
   ],
   "source": [
    "d[\"k\"]"
   ]
  },
  {
   "cell_type": "code",
   "execution_count": 47,
   "id": "3c65c30e-eb35-43db-bd5c-8f68402826c1",
   "metadata": {},
   "outputs": [
    {
     "data": {
      "text/plain": [
       "dict_keys(['k', 5, 4.5])"
      ]
     },
     "execution_count": 47,
     "metadata": {},
     "output_type": "execute_result"
    }
   ],
   "source": [
    "d.keys()"
   ]
  },
  {
   "cell_type": "code",
   "execution_count": 48,
   "id": "3b2a4a98-c0b3-47d0-b00d-56cafe481f5b",
   "metadata": {},
   "outputs": [
    {
     "data": {
      "text/plain": [
       "dict_values([45, 45, 45])"
      ]
     },
     "execution_count": 48,
     "metadata": {},
     "output_type": "execute_result"
    }
   ],
   "source": [
    "d.values()"
   ]
  },
  {
   "cell_type": "code",
   "execution_count": 50,
   "id": "56e02ade-02f4-489e-bf58-da06f1820a6f",
   "metadata": {},
   "outputs": [
    {
     "data": {
      "text/plain": [
       "dict_items([('k', 45), (5, 45), (4.5, 45)])"
      ]
     },
     "execution_count": 50,
     "metadata": {},
     "output_type": "execute_result"
    }
   ],
   "source": [
    "d.items()"
   ]
  },
  {
   "cell_type": "code",
   "execution_count": 51,
   "id": "05ac1a3b-12c3-473c-9ce9-fa8b85a5cb8f",
   "metadata": {},
   "outputs": [
    {
     "data": {
      "text/plain": [
       "{'k': 3, 5: 45, 4.5: 45}"
      ]
     },
     "execution_count": 51,
     "metadata": {},
     "output_type": "execute_result"
    }
   ],
   "source": [
    "d[\"k\"] =3\n",
    "d"
   ]
  },
  {
   "cell_type": "markdown",
   "id": "30e320ba-16fe-4d96-ab72-43d3d37273a2",
   "metadata": {},
   "source": [
    "## Lambda Method "
   ]
  },
  {
   "cell_type": "code",
   "execution_count": 54,
   "id": "b35979c0-2cb9-4d6b-8e5c-b327585562c5",
   "metadata": {},
   "outputs": [
    {
     "name": "stdout",
     "output_type": "stream",
     "text": [
      "20\n"
     ]
    }
   ],
   "source": [
    "def method1(x):\n",
    "    x=x+x\n",
    "    print(x)\n",
    "method1(10)"
   ]
  },
  {
   "cell_type": "code",
   "execution_count": 59,
   "id": "6ef05b4b-942d-486b-8c1f-f26ec6efd15a",
   "metadata": {},
   "outputs": [
    {
     "data": {
      "text/plain": [
       "35"
      ]
     },
     "execution_count": 59,
     "metadata": {},
     "output_type": "execute_result"
    }
   ],
   "source": [
    "x = lambda y,z : y*z\n",
    "x(5,7)"
   ]
  },
  {
   "cell_type": "code",
   "execution_count": null,
   "id": "3a22728a-444d-4b7b-bcc8-6f57ffe4b17c",
   "metadata": {},
   "outputs": [],
   "source": []
  }
 ],
 "metadata": {
  "kernelspec": {
   "display_name": "Python 3 (ipykernel)",
   "language": "python",
   "name": "python3"
  },
  "language_info": {
   "codemirror_mode": {
    "name": "ipython",
    "version": 3
   },
   "file_extension": ".py",
   "mimetype": "text/x-python",
   "name": "python",
   "nbconvert_exporter": "python",
   "pygments_lexer": "ipython3",
   "version": "3.12.0"
  }
 },
 "nbformat": 4,
 "nbformat_minor": 5
}
